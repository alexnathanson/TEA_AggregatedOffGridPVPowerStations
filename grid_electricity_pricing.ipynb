{
 "cells": [
  {
   "cell_type": "markdown",
   "id": "ba57721d-b743-41ef-bd8b-fb10b0eabf07",
   "metadata": {},
   "source": [
    "# Average increase in electricity pricing\n",
    "\n",
    "source: https://www.nyserda.ny.gov/Energy-Prices/Electricity/Monthly-Avg-Electricity-Residential\n",
    "\n",
    "Note that these are state-wide costs, while the values used in the model are NYC-area costs, which are slightly higher."
   ]
  },
  {
   "cell_type": "code",
   "execution_count": 3,
   "id": "d053f6f5-354c-4d97-87c7-e3eeb788429d",
   "metadata": {},
   "outputs": [],
   "source": [
    "from statistics import median\n",
    "from statistics import mean"
   ]
  },
  {
   "cell_type": "code",
   "execution_count": 4,
   "id": "e2976186-d062-4b67-928c-f11f5e6ce4af",
   "metadata": {},
   "outputs": [],
   "source": [
    "elecPricesMonthly = [[25.31,23.44,23.57,21.0,18.3,17.6,17.3,17.8,17.3,16.5,19.3],\n",
    "        [26.20,24.23,23.60,21.6,18.8,17.4,17.6,18.2,17.5,16.8,19.8],\n",
    "        [25.43,23.64,21.18,19.7,18.0,17.2,16.8,17.5,17.0,16.9,19.0],\n",
    "        [22.97,19.81,21.1,18.5,17.3,17.5,18.0,17.3,17.4,17.8],\n",
    "        [23.60,20.47,21.9,19.9,18.5,17.3,18.5,18.5,17.7,18.1],\n",
    "        [24.51,21.63,22.4,19.5,19.1,18.5,19.3,18.8,17.9,18.8],\n",
    "        [25.01,22.27,21.9,19.6,18.7,18.6,19.4,18.8,17.9,18.7],\n",
    "        [25.21,22.33,21.2,19.9,18.4,18.4,19.0,18.6,18.0,18.4],\n",
    "        [24.98,23.23,24.0,20.5,19.0,18.7,19.3,18.8,18.4,18.4],\n",
    "        [24.98,22.70,23.3,20.6,19.3,18.6,19.3,18.7,18.3,18.3],\n",
    "        [24.69,22.72,23.7,20.0,19.0,18.0,18.2,17.8,17.7,18.2],\n",
    "        [24.37,22.52,22.8,19.5,18.3,17.3,17.3,17.0,17.2,17.5]]"
   ]
  },
  {
   "cell_type": "code",
   "execution_count": 6,
   "id": "cb435bae-b930-4230-ac7a-d4e332cbd2c8",
   "metadata": {},
   "outputs": [
    {
     "name": "stdout",
     "output_type": "stream",
     "text": [
      "Average Annual Change: 0.034065053926968965\n",
      "Median Annual Change: 0.03200022755717372\n"
     ]
    }
   ],
   "source": [
    "meanYearlyChange=[]\n",
    "medianYearlyChange=[]\n",
    "\n",
    "for m in elecPricesMonthly:\n",
    "    years = len(m)\n",
    "    yearlyChangeByMonth = []\n",
    "    for i,y in enumerate(m):\n",
    "        if i < years - 1:\n",
    "            yearlyChangeByMonth.append((y-m[i+1])/m[i+1])\n",
    "    meanYearlyChange.append(mean(yearlyChangeByMonth))\n",
    "    medianYearlyChange.append(median(yearlyChangeByMonth))\n",
    "    # print(f'Average Annual Change by Month: {mean(yearlyChangeByMonth)}')\n",
    "    # print(f'Median Annual Change by Month: {median(yearlyChangeByMonth)}')\n",
    "    # print('')\n",
    "\n",
    "print(f'Average Annual Change: {mean(meanYearlyChange)}')\n",
    "print(f'Median Annual Change: {median(medianYearlyChange)}')"
   ]
  },
  {
   "cell_type": "code",
   "execution_count": null,
   "id": "2d24fa64-74fa-41ec-a273-7dcf4cf0c438",
   "metadata": {},
   "outputs": [],
   "source": []
  },
  {
   "cell_type": "code",
   "execution_count": null,
   "id": "45f6ed5d-23e5-4feb-b575-d847430b5277",
   "metadata": {},
   "outputs": [],
   "source": []
  }
 ],
 "metadata": {
  "kernelspec": {
   "display_name": "Python 3 (ipykernel)",
   "language": "python",
   "name": "python3"
  },
  "language_info": {
   "codemirror_mode": {
    "name": "ipython",
    "version": 3
   },
   "file_extension": ".py",
   "mimetype": "text/x-python",
   "name": "python",
   "nbconvert_exporter": "python",
   "pygments_lexer": "ipython3",
   "version": "3.12.10"
  }
 },
 "nbformat": 4,
 "nbformat_minor": 5
}
