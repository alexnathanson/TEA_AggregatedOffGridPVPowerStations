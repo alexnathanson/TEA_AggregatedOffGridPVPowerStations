{
 "cells": [
  {
   "cell_type": "code",
   "execution_count": 4,
   "id": "ee46d5f5-afae-4741-a552-441ccfc9455c",
   "metadata": {},
   "outputs": [],
   "source": [
    "import csv\n",
    "\n",
    "# File paths\n",
    "input_file = \"temp_2024.txt\"\n",
    "output_file = \"formatting_2024_.csv\"\n",
    "\n",
    "# # Read the file\n",
    "# with open(input_file, 'r') as f:\n",
    "#     lines = [line.strip() for line in f if line.strip()]  # Remove blank lines\n",
    "\n",
    "# # Group lines in blocks of 9\n",
    "# blocks = [lines[i:i+9] for i in range(0, len(lines), 9)]\n",
    "\n",
    "# # Write to a tab-separated CSV\n",
    "# with open(output_file, 'w', newline='') as f:\n",
    "#     writer = csv.writer(f, delimiter='\\t')\n",
    "#     for block in blocks:\n",
    "#         writer.writerow(block)\n",
    "\n",
    "# print(\"Conversion complete. Output saved to\", output_file)\n"
   ]
  },
  {
   "cell_type": "code",
   "execution_count": 5,
   "id": "05cb5d90-6c68-4de8-bf2b-e2b8bb2e8301",
   "metadata": {},
   "outputs": [
    {
     "name": "stdout",
     "output_type": "stream",
     "text": [
      "Conversion complete. Output saved to formatting_2024_.csv\n"
     ]
    }
   ],
   "source": [
    "# Read and clean lines\n",
    "with open(input_file, 'r') as f:\n",
    "    lines = [line.strip() for line in f if line.strip()]  # remove blank lines\n",
    "\n",
    "# Check that the total number of lines is a multiple of 9\n",
    "if len(lines) % 9 != 0:\n",
    "    raise ValueError(\"The number of lines in the file is not a multiple of 9.\")\n",
    "\n",
    "# Group into 9-line blocks and write tab-separated lines\n",
    "with open(output_file, 'w') as f:\n",
    "    for i in range(0, len(lines), 9):\n",
    "        block = lines[i:i+9]\n",
    "        f.write('\\t'.join(block) + '\\n')\n",
    "\n",
    "print(\"Conversion complete. Output saved to\", output_file)\n"
   ]
  },
  {
   "cell_type": "code",
   "execution_count": null,
   "id": "0c2d5d19-7ea8-4a45-a98c-079b0ec8302c",
   "metadata": {},
   "outputs": [],
   "source": []
  }
 ],
 "metadata": {
  "kernelspec": {
   "display_name": "Python 3 (ipykernel)",
   "language": "python",
   "name": "python3"
  },
  "language_info": {
   "codemirror_mode": {
    "name": "ipython",
    "version": 3
   },
   "file_extension": ".py",
   "mimetype": "text/x-python",
   "name": "python",
   "nbconvert_exporter": "python",
   "pygments_lexer": "ipython3",
   "version": "3.12.10"
  }
 },
 "nbformat": 4,
 "nbformat_minor": 5
}
